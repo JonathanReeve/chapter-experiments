{
 "cells": [
  {
   "cell_type": "code",
   "execution_count": 1,
   "metadata": {},
   "outputs": [],
   "source": [
    "import spacy\n",
    "import random\n",
    "import pandas as pd\n",
    "import numpy as np\n",
    "import textacy\n",
    "%matplotlib inline\n",
    "import matplotlib.pyplot as plt\n",
    "plt.rcParams[\"figure.figsize\"] = (16,6)"
   ]
  },
  {
   "cell_type": "code",
   "execution_count": 2,
   "metadata": {},
   "outputs": [],
   "source": [
    "def loadAndSample(filename): \n",
    "    raw = open(filename).read().split('\\n')\n",
    "    sample = random.sample(raw, 200)\n",
    "    return '\\n'.join(sample)"
   ]
  },
  {
   "cell_type": "code",
   "execution_count": 53,
   "metadata": {},
   "outputs": [],
   "source": [
    "filenames = ['chaps-firstParas.txt', 'chaps-midParas.txt', 'chaps-lastParas.txt']"
   ]
  },
  {
   "cell_type": "code",
   "execution_count": 37,
   "metadata": {},
   "outputs": [],
   "source": [
    "filenames = ['jane.txt', 'dracula.txt', 'study.txt']"
   ]
  },
  {
   "cell_type": "code",
   "execution_count": 54,
   "metadata": {},
   "outputs": [],
   "source": [
    "rawTexts = [loadAndSample(t) for t in filenames]"
   ]
  },
  {
   "cell_type": "code",
   "execution_count": 39,
   "metadata": {},
   "outputs": [],
   "source": [
    "rawTexts = [open(filename).read() for filename in filenames]"
   ]
  },
  {
   "cell_type": "code",
   "execution_count": 55,
   "metadata": {},
   "outputs": [],
   "source": [
    "rawTexts = [t[:100000] for t in rawTexts]"
   ]
  },
  {
   "cell_type": "code",
   "execution_count": 56,
   "metadata": {},
   "outputs": [
    {
     "data": {
      "text/plain": [
       "[100000, 100000, 65406]"
      ]
     },
     "execution_count": 56,
     "metadata": {},
     "output_type": "execute_result"
    }
   ],
   "source": [
    "[len(t) for t in rawTexts]"
   ]
  },
  {
   "cell_type": "code",
   "execution_count": 57,
   "metadata": {},
   "outputs": [],
   "source": [
    "corpus = textacy.Corpus('en', texts=rawTexts)"
   ]
  },
  {
   "cell_type": "code",
   "execution_count": 58,
   "metadata": {},
   "outputs": [],
   "source": [
    "vectorizer = textacy.Vectorizer(weighting='tfidf', normalize=True, \n",
    "                                smooth_idf=True, min_df=2, max_df=0.98, max_n_terms=100000)"
   ]
  },
  {
   "cell_type": "code",
   "execution_count": 59,
   "metadata": {},
   "outputs": [],
   "source": [
    "doc_term_matrix = vectorizer.fit_transform([[tok.lemma_ for tok in doc] for doc in corpus])"
   ]
  },
  {
   "cell_type": "code",
   "execution_count": 60,
   "metadata": {},
   "outputs": [
    {
     "data": {
      "text/plain": [
       "(3, 1183)"
      ]
     },
     "execution_count": 60,
     "metadata": {},
     "output_type": "execute_result"
    }
   ],
   "source": [
    "doc_term_matrix.todense().shape"
   ]
  },
  {
   "cell_type": "code",
   "execution_count": 61,
   "metadata": {},
   "outputs": [],
   "source": [
    "model = textacy.tm.TopicModel('lda', n_topics=10)"
   ]
  },
  {
   "cell_type": "code",
   "execution_count": 62,
   "metadata": {},
   "outputs": [],
   "source": [
    "model.fit(doc_term_matrix)"
   ]
  },
  {
   "cell_type": "code",
   "execution_count": 63,
   "metadata": {},
   "outputs": [
    {
     "data": {
      "text/plain": [
       "array([[ 0.00414594,  0.00414623,  0.96268636,  0.00414594,  0.00414592,\n",
       "         0.00414592,  0.00414591,  0.00414593,  0.00414592,  0.00414593],\n",
       "       [ 0.00417167,  0.96245468,  0.00417186,  0.00417173,  0.00417168,\n",
       "         0.00417168,  0.00417166,  0.00417169,  0.00417168,  0.00417167],\n",
       "       [ 0.00859637,  0.92263208,  0.00859689,  0.0085964 ,  0.00859642,\n",
       "         0.00859639,  0.00859636,  0.0085964 ,  0.00859635,  0.00859636]])"
      ]
     },
     "execution_count": 63,
     "metadata": {},
     "output_type": "execute_result"
    }
   ],
   "source": [
    "ldaOut = model.transform(doc_term_matrix)\n",
    "ldaOut"
   ]
  },
  {
   "cell_type": "code",
   "execution_count": 64,
   "metadata": {},
   "outputs": [
    {
     "name": "stdout",
     "output_type": "stream",
     "text": [
      "topic 0 : o'clock   depart   successful   secret   er   alarm   display   game   forgetfulness   casually\n",
      "topic 1 :        thou   ah   english   reply   instant   these   laugh   cluster   behave\n",
      "topic 2 : certain   sun   train   conversation   branch   state   journey   st.   silent   gather\n",
      "topic 3 : acquire   group   bury   ?—   recognise   discourse   reflection          er   dad\n",
      "topic 4 : force   tightly   sheath   fashion   activity   dull   sugar   pavement   national   market\n",
      "topic 5 : future   pinch   mistress   imagine   conscious   coward   disobey   prepare   class   gaudy\n",
      "topic 6 : curtain   clasp   importance   suspect   fifteen   announcement   curse   raymond   tolerate   rugged\n",
      "topic 7 : hearted   spanish   dan   space   flat   available   row   discover   obligation   expression\n",
      "topic 8 : delicate   combine   grieve   lake   traffic   represent   wine   whim   shape   hail\n",
      "topic 9 : compact   republic   bull   entertain   partner   herr   innocently   duke   actually   button\n"
     ]
    }
   ],
   "source": [
    "for topic_idx, top_terms in model.top_topic_terms(vectorizer.id_to_term):\n",
    "    print('topic', topic_idx, ':', '   '.join(top_terms))"
   ]
  },
  {
   "cell_type": "code",
   "execution_count": 65,
   "metadata": {},
   "outputs": [
    {
     "data": {
      "text/plain": [
       "<matplotlib.axes._subplots.AxesSubplot at 0x7ff3bfdfc3c8>"
      ]
     },
     "execution_count": 65,
     "metadata": {},
     "output_type": "execute_result"
    },
    {
     "data": {
      "image/png": "[encoded data removed]",
      "text/plain": [
       "<matplotlib.figure.Figure at 0x7ff3bfe19908>"
      ]
     },
     "metadata": {},
     "output_type": "display_data"
    }
   ],
   "source": [
    "pd.DataFrame(ldaOut, index=filenames).plot(kind='bar')"
   ]
  },
  {
   "cell_type": "code",
   "execution_count": 51,
   "metadata": {},
   "outputs": [
    {
     "data": {
      "text/plain": [
       "array([ 0.29008532,  0.32457656,  0.32435285,  0.00871218,  0.00871218,\n",
       "        0.00871216,  0.00871223,  0.00871213,  0.0087122 ,  0.0087122 ])"
      ]
     },
     "execution_count": 51,
     "metadata": {},
     "output_type": "execute_result"
    }
   ],
   "source": [
    "model.topic_weights(ldaOut)"
   ]
  },
  {
   "cell_type": "code",
   "execution_count": 66,
   "metadata": {},
   "outputs": [
    {
     "name": "stdout",
     "output_type": "stream",
     "text": [
      "topic 0 : certain   sun   believe   clothe   conversation   st.   train   journey   branch   whether\n",
      "topic 1 :        laugh   reply   ah   thou   shepherd   mutter   box   english   cave\n",
      "topic 2 : medicine   violently   fully   tall   cave   mountain   reunion   apart   nestor   discover\n"
     ]
    }
   ],
   "source": [
    "model = textacy.tm.TopicModel('nmf', n_topics=3)\n",
    "model.fit(doc_term_matrix)\n",
    "doc_topic_matrix = model.transform(doc_term_matrix)\n",
    "topics = []\n",
    "for topic_idx, top_terms in model.top_topic_terms(vectorizer.id_to_term, top_n=10):\n",
    "    print('topic', topic_idx, ':', '   '.join(top_terms))\n",
    "    topics.append(' '.join(top_terms))"
   ]
  },
  {
   "cell_type": "code",
   "execution_count": null,
   "metadata": {},
   "outputs": [],
   "source": []
  }
 ],
 "metadata": {
  "kernelspec": {
   "display_name": "Python 3",
   "language": "python",
   "name": "python3"
  },
  "language_info": {
   "codemirror_mode": {
    "name": "ipython",
    "version": 3
   },
   "file_extension": ".py",
   "mimetype": "text/x-python",
   "name": "python",
   "nbconvert_exporter": "python",
   "pygments_lexer": "ipython3",
   "version": "3.6.5"
  }
 },
 "nbformat": 4,
 "nbformat_minor": 2
}
